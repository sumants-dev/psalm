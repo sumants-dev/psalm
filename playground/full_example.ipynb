{
 "cells": [
  {
   "cell_type": "markdown",
   "metadata": {},
   "source": [
    "# Examples"
   ]
  },
  {
   "cell_type": "markdown",
   "metadata": {},
   "source": [
    "## Private LLM calls with santized prompts"
   ]
  },
  {
   "cell_type": "code",
   "execution_count": 115,
   "metadata": {},
   "outputs": [],
   "source": [
    "import requests, json\n",
    "api_url = \"http://localhost:8000\"\n",
    "\n",
    "request = {\n",
    "    \"provider\": \"openai\",\n",
    "    \"model\": \"gpt-3.5-turbo\",\n",
    "    \"messages\": [\n",
    "        {\n",
    "            \"role\": \"system\",\n",
    "            \"content\": \"Do not answer the question until the context below is used.\\n Here is the context: Rushabh. Rushabh is very passionate about technology and loves tinkering with new products. He enjoys spending quality time in nature in his free time. He's early in his career, so he's willing to forgo salary for career growth. \",\n",
    "            \"name\": \"context\"\n",
    "        },\n",
    "        {\n",
    "            \"role\": \"user\",\n",
    "            \"content\": \"Please explain the importance of the following factor Compensation, Work Life Balance, Company mission when Rushabh is looking for jobs.\",\n",
    "            \"name\": \"rankings\"\n",
    "        }\n",
    "    ]\n",
    "}\n",
    "\n",
    "res = requests.post(api_url + \"/llm/chat/completions?debug=true\", json=request)\n",
    "response = res.json()\n",
    "\n"
   ]
  },
  {
   "cell_type": "markdown",
   "metadata": {},
   "source": [
    "####  What AI Sees"
   ]
  },
  {
   "cell_type": "code",
   "execution_count": 116,
   "metadata": {},
   "outputs": [
    {
     "name": "stdout",
     "output_type": "stream",
     "text": [
      "[\n",
      "    {\n",
      "        \"role\": \"system\",\n",
      "        \"content\": \"Ensure that all placeholders, including those inside quotes, are enclosed by the greek letter alpha (\\u03b1), exactly as I have done in this prompt. You MUST use the greek letter (\\u03b1) to indicate placeholders. Use the context below to help answer the question and follow the desired format accurately.\",\n",
      "        \"name\": null,\n",
      "        \"function\": null\n",
      "    },\n",
      "    {\n",
      "        \"role\": \"system\",\n",
      "        \"content\": \"Do not answer the question until the context below is used.\\n Here is the context: \\u03b1EZfKxDQ\\u03b1. \\u03b1l8knK-s\\u03b1 is very passionate about technology and loves tinkering with new products. He enjoys spending quality time in nature in his free time. He's early in his career, so he's willing to forgo salary for career growth. \",\n",
      "        \"name\": \"context\",\n",
      "        \"function\": null\n",
      "    },\n",
      "    {\n",
      "        \"role\": \"user\",\n",
      "        \"content\": \"Please explain the importance of the following factor Compensation, Work Life Balance, Company mission when \\u03b1gaBu_GQ\\u03b1 is looking for jobs.\",\n",
      "        \"name\": \"rankings\",\n",
      "        \"function\": null\n",
      "    }\n",
      "]\n"
     ]
    }
   ],
   "source": [
    "print(json.dumps(response[\"raw_request\"], indent=4))"
   ]
  },
  {
   "cell_type": "markdown",
   "metadata": {},
   "source": [
    "####  What users see"
   ]
  },
  {
   "cell_type": "code",
   "execution_count": 117,
   "metadata": {},
   "outputs": [
    {
     "name": "stdout",
     "output_type": "stream",
     "text": [
      "[\n",
      "  {\n",
      "    \"role\": \"assistant\",\n",
      "    \"content\": \"When Rushabh is looking for jobs, there are several factors that are important to consider. Compensation, work-life balance, and company mission are three key factors that can greatly impact Rushabh's job satisfaction and overall career growth.\\n\\nCompensation, the first factor, refers to the financial rewards and benefits that Rushabh will receive from a job. This includes the salary, bonuses, and other perks that come with the position. While Rushabh may be willing to forgo salary for career growth at this stage in his career, compensation is still an essential consideration. Adequate compensation not only ensures that Rushabh's financial needs are met, but it also serves as recognition of his skills and contributions.\\n\\nWork-life balance, the second factor, refers to the equilibrium between Rushabh's personal and professional life. It is important for Rushabh to find a job that allows him to maintain a healthy lifestyle and have time for his hobbies and interests outside of work. Rushabh's passion for spending quality time in nature suggests that work-life balance is crucial for his overall well-being. Finding a job that provides flexibility, reasonable working hours, and supportive policies can contribute to Rushabh's job satisfaction and overall happiness.\\n\\nLastly, company mission refers to the purpose and values of the organization that Rushabh is considering working for. This factor assesses whether the company's goals and values align with Rushabh's own beliefs and interests. Since Rushabh is passionate about technology and enjoys tinkering with new products, working for a company that shares his enthusiasm for technology and innovation could provide a more fulfilling and meaningful work experience. A strong company mission can also provide Rushabh with a sense of purpose and motivation in his work.\\n\\nIn conclusion, when Rushabh is looking for jobs, it is crucial to consider factors such as compensation, work-life balance, and company mission. These factors can greatly impact his job satisfaction, career growth, and overall well-being. Finding a job that offers a fair compensation package, promotes work-life balance, and aligns with his interests and values can lead to a more fulfilling and rewarding career path for Rushabh.\",\n",
      "    \"name\": null,\n",
      "    \"function\": null\n",
      "  }\n",
      "]\n"
     ]
    }
   ],
   "source": [
    "print(json.dumps(response[\"messages\"], indent=2))\n"
   ]
  },
  {
   "cell_type": "markdown",
   "metadata": {},
   "source": [
    "## Secure RAG with Santized Documents and Prompts\n",
    "\n"
   ]
  },
  {
   "cell_type": "markdown",
   "metadata": {},
   "source": [
    "### Set Up Vector DB\n",
    "We assume you are using postgres with PGVector. Please email sumant@pontus.so for any support for other vector databases."
   ]
  },
  {
   "cell_type": "code",
   "execution_count": 20,
   "metadata": {},
   "outputs": [
    {
     "data": {
      "text/plain": [
       "<Response [200]>"
      ]
     },
     "execution_count": 20,
     "metadata": {},
     "output_type": "execute_result"
    }
   ],
   "source": [
    "documents_from_wiki = [\"Bill Burr\", \"Marie Kondo\", \"Garry Kasparov\"]\n",
    "requests.post(api_url + \"/demo/load_wiki_pages\", json={\"page_names\": documents_from_wiki})"
   ]
  },
  {
   "cell_type": "markdown",
   "metadata": {},
   "source": [
    "### Call LLM\n",
    "To see what prompts are sent to OpenAI, please pass the query param debug as true (?debug=true) and to enable RAG (?rag=true)"
   ]
  },
  {
   "cell_type": "code",
   "execution_count": 64,
   "metadata": {},
   "outputs": [],
   "source": [
    "request = {\n",
    "\t\"provider\": \"openai\",\n",
    "\t\"model\": \"gpt-3.5-turbo\",\n",
    "\t\"messages\": [\n",
    "\n",
    "\t\t{\n",
    "\t\t\t\"role\": \"system\",\n",
    "\t\t\t\"content\": \"Please provide a JSON response with the following format: {'Cards against Humanity': [ordered list of Bill, Garry, or Marie], 'Go': [ordered list of Bill, Garry, or Marie], 'Solitare': [ordered list of Bill, Garry, or Marie]}\"\n",
    "\t\t},\n",
    "\t\t{\n",
    "\t\t\t\"role\": \"user\",\n",
    "\t\t\t\"content\": \"For each of the games 'Cards against Humanity', 'Go', and 'Solitaire', please order Marie Kondo, Garry Kasparov, and Bill Burr based on how much they would enjoy playing each game.\"\n",
    "\t\t}\n",
    "\t],\n",
    "\t\"titles\": [\"Bill Burr\", \"Marie Kondo\", \"Garry Kasparov\"]\n",
    "}\n",
    "\n",
    "\n",
    "res_with_rag = requests.post(api_url + \"/llm/chat/completions?debug=true&enable_rag=true\", json=request, auth=(\"admin\", \"1234\"))\n",
    "response_with_rag = res_with_rag.json()\n"
   ]
  },
  {
   "cell_type": "markdown",
   "metadata": {},
   "source": [
    "#### What AI sees"
   ]
  },
  {
   "cell_type": "code",
   "execution_count": 65,
   "metadata": {},
   "outputs": [
    {
     "name": "stdout",
     "output_type": "stream",
     "text": [
      "[\n",
      "    {\n",
      "        \"role\": \"system\",\n",
      "        \"content\": \"Ensure that all placeholders, including those inside quotes, are enclosed by the greek letter alpha (\\u03b1), exactly as I have done in this prompt. You MUST use the greek letter (\\u03b1) to indicate placeholders. Use the context below to help answer the question and follow the desired format accurately.\",\n",
      "        \"name\": null,\n",
      "        \"function\": null\n",
      "    },\n",
      "    {\n",
      "        \"role\": \"system\",\n",
      "        \"content\": \"Please provide a JSON response with the following format: {'Cards against Humanity': [ordered list of \\u03b1gDgoI1M\\u03b1, \\u03b1kwXTokk\\u03b1, or \\u03b1Zt-uiLA\\u03b1], 'Go': [ordered list of \\u03b18ns0q24\\u03b1, \\u03b1KrDWz9g\\u03b1, or \\u03b1S2ljaRY\\u03b1], 'Solitare': [ordered list of \\u03b1WA3VJDk\\u03b1, \\u03b1pFJxShM\\u03b1, or \\u03b1-Z3vORc\\u03b1\",\n",
      "        \"name\": null,\n",
      "        \"function\": null\n",
      "    },\n",
      "    {\n",
      "        \"role\": \"user\",\n",
      "        \"content\": \"For each of the games 'Cards against Humanity', 'Go', and 'Solitaire', please order \\u03b1FMJQQws\\u03b1, \\u03b15j4jRcM\\u03b1, and \\u03b1NCu39to\\u03b1\",\n",
      "        \"name\": null,\n",
      "        \"function\": null\n",
      "    },\n",
      "    {\n",
      "        \"role\": \"system\",\n",
      "        \"content\": \"Below is useful context. Do not answer the question yet.\\nFrom the document with the title \\u03b1wH3ExR4\\u03b1, \\u03b1WMJNRAc\\u03b1 (born June 10, 1968) American stand-up comedian, actor, filmmaker, podcaster.  released multiple stand-up comedy specials, including People (2012), I'm Sorry Feel Way (2014), Walk Way (2017), Paper Tiger (2019), Live Red Rocks (2022).  received Grammy Award nomination Paper Tiger, Primetime Emmy Award nomination dark comedy series Immoral Compass (2021present)\\nFrom the document with the title \\u03b1yYB8EPs\\u03b1, \\u03b1eYPRKpA\\u03b1 (born June 10, 1968) American stand-up comedian, actor, filmmaker, podcaster.  released multiple stand-up comedy specials, including People (2012), I'm Sorry Feel Way (2014), Walk Way (2017), Paper Tiger (2019), Live Red Rocks (2022)\\nFrom the document with the title \\u03b1w8Lb0Vo\\u03b1, \\u03b1_URSyAg\\u03b1 (born June 10, 1968) American stand-up comedian, actor, filmmaker, podcaster.  released multiple stand-up comedy specials, including People (2012), I'm Sorry Feel Way (2014), Walk Way (2017), Paper Tiger (2019), Live Red Rocks (2022).  received Grammy Award nomination Paper Tiger, Primetime Emmy Award nomination dark comedy series Immoral Compass (2021present).  2017, Rolling Stone ranked \\u03b1XfStzRg\\u03b1 No\\nFrom the document with the title \\u03b1EmFVI3Y\\u03b1,  Following philosophy acknowledge usefulness belonging help owners learn themselves, help able easily decide discard.  advises category items location house.  example, clothes house piled first, assessed tokimeku, discarded needed, followed categories books, papers, miscellany, mementos.  crucial aspect KonMari method find designated place item house making sure stays there.  Kondo says method partly inspired Shinto religion.  Cleaning organizing things properly spiritual practice Shintoism, concerned energy divine spirit things (\\u03b1KeaepAc\\u03b1) right way live (kannagara): Treasuring have; treating objects disposable, valuable, matter actual monetary worth; creating displays value individual object essentially Shinto ways living.  Media appearances two-part TV dramatisation filmed 2013 based Kondo work, titled  (Jinsei ga \\u03b1EL-acJ8\\u03b1).  lectured television appearances.  released series videos teaching \\\"the best way fold perfect appearance\\\". On 1 January 2019, Netflix released series called Tidying \\u03b1RXRFoJM\\u03b1.  series, Kondo visits American family homes clutter guides families tidying houses KonMari method.  Following release Netflix series, Kondo subject Internet memes.  clip saying \\\"I love mess\\\" included Time's list best memes 2019. In August 2021, Kondo followed Tidying \\u03b1OLah5A8\\u03b1 similar series Netflix titled Sparking Joy \\u03b1DfaWU-c\\u03b1.  Personal life \\u03b1maKDsmU\\u03b1 married \\u03b1A6q3iyQ\\u03b1 2012.  time met, Kawahara working sales-support marketing corporation Osaka.  Kondo's career established, left job manager and, eventually, CEO Konmari-Media, LLC. The couple daughters son.  getting married, lived Tokyo; couple later moved San Francisco Los Angeles. After birth child, Kondo's rigorous attitude tidying home relaxed order room personal priorities stage life.  Publications Jinsei ga \\u03b12Ko9JBw\\u03b1 ().  Tokyo: \\u03b1KqNO99A\\u03b1, 2011; ISBN 978-4-7631-3120-1 (in Japanese) English translation\\nFrom the document with the title \\u03b1LGyEEYs\\u03b1,  example, clothes house piled first, assessed tokimeku, discarded needed, followed categories books, papers, miscellany, mementos.  crucial aspect KonMari method find designated place item house making sure stays there.  Kondo says method partly inspired Shinto religion.  Cleaning organizing things properly spiritual practice Shintoism, concerned energy divine spirit things (\\u03b1gUYwgEU\\u03b1) right way live (kannagara): Treasuring have; treating objects disposable, valuable, matter actual monetary worth; creating displays value individual object essentially Shinto ways living.  Media appearances two-part TV dramatisation filmed 2013 based Kondo work, titled  (Jinsei ga \\u03b1z4D4XT4\\u03b1).  lectured television appearances.  released series videos teaching \\\"the best way fold perfect appearance\\\". On 1 January 2019, Netflix released series called Tidying \\u03b1V8-5iuc\\u03b1.  series, Kondo visits American family homes clutter guides families tidying houses KonMari method.  Following release Netflix series, Kondo subject Internet memes.  clip saying \\\"I love mess\\\" included Time's list best memes 2019. In August 2021, Kondo followed Tidying \\u03b1mxsngh8\\u03b1 similar series Netflix titled Sparking Joy \\u03b1o6VMr_o\\u03b1.  Personal life \\u03b1feEB0uI\\u03b1 married \\u03b1rABm4Sw\\u03b1 2012.  time met, Kawahara working sales-support marketing corporation Osaka.  Kondo's career established, left job manager and, eventually, CEO Konmari-Media, LLC. The couple daughters son.  getting married, lived Tokyo; couple later moved San Francisco Los Angeles. After birth child, Kondo's rigorous attitude tidying home relaxed order room personal priorities stage life.  Publications Jinsei ga \\u03b1VFCTqqU\\u03b1 ().  Tokyo: \\u03b1BHSnpvw\\u03b1, 2011; ISBN 978-4-7631-3120-1 (in Japanese) English translation.  life-changing Magic Tidying up: Japanese Art Decluttering Organizing.  New York: Speed Press, 2014; ISBN 978-1607747307.  Jinsei ga \\u03b19B0qSiQ\\u03b1 (2)\\nFrom the document with the title \\u03b1ZmLMGwA\\u03b1,  advises category items location house.  example, clothes house piled first, assessed tokimeku, discarded needed, followed categories books, papers, miscellany, mementos.  crucial aspect KonMari method find designated place item house making sure stays there.  Kondo says method partly inspired Shinto religion.  Cleaning organizing things properly spiritual practice Shintoism, concerned energy divine spirit things (\\u03b1Ukckdh4\\u03b1) right way live (kannagara): Treasuring have; treating objects disposable, valuable, matter actual monetary worth; creating displays value individual object essentially Shinto ways living.  Media appearances two-part TV dramatisation filmed 2013 based Kondo work, titled  (Jinsei ga \\u03b1WctCta8\\u03b1).  lectured television appearances.  released series videos teaching \\\"the best way fold perfect appearance\\\". On 1 January 2019, Netflix released series called Tidying \\u03b1oKQGU-g\\u03b1.  series, Kondo visits American family homes clutter guides families tidying houses KonMari method.  Following release Netflix series, Kondo subject Internet memes.  clip saying \\\"I love mess\\\" included Time's list best memes 2019. In August 2021, Kondo followed Tidying \\u03b12US9en0\\u03b1 similar series Netflix titled Sparking Joy \\u03b1Wv81vzo\\u03b1.  Personal life \\u03b17X7F2A4\\u03b1 married \\u03b1V9ki22g\\u03b1 2012.  time met, Kawahara working sales-support marketing corporation Osaka.  Kondo's career established, left job manager and, eventually, CEO Konmari-Media, LLC. The couple daughters son.  getting married, lived Tokyo; couple later moved San Francisco Los Angeles. After birth child, Kondo's rigorous attitude tidying home relaxed order room personal priorities stage life.  Publications Jinsei ga \\u03b199XnOmw\\u03b1 ().  Tokyo: \\u03b1fco1KeQ\\u03b1, 2011; ISBN 978-4-7631-3120-1 (in Japanese) English translation.  life-changing Magic Tidying up: Japanese Art Decluttering Organizing\\nFrom the document with the title \\u03b1O3Bg6HI\\u03b1, \\\"\\u03b1Pc2zzxA\\u03b1 wrote July 2013 trial Kirov fellow opposition leader \\u03b1lXQAqqw\\u03b1, convicted \\\"on concocted embezzlement charges\\\", prosecutor, surprisingly, ask release day pending appeal.  \\\"The judicial process democratic process Russia,\\\" wrote \\u03b11s5ZNt4\\u03b1, \\\"are elaborate mockeries created distract citizenry home help Western leaders avoid confronting awkward fact Russia returned police state\\\".  Still, \\u03b1_LuucrE\\u03b1 felt caused Kirov prosecutor's about-face, \\\"my optimism tells positive sign.  13 years predictable repression \\u03b1Yz0WoU8\\u03b1, different good. \\\"\\u03b1ss0oBa8\\u03b1 outspoken \\u03b1-4D827s\\u03b1's antigay laws, describing \\\"only recent encroachment freedom speech association Russia's citizens\\\", international community largely ignored.  Russia's hosting 2014 Winter Olympics, \\u03b1SLFzDKE\\u03b1 explained August 2013 opposed Russia's bid outset, \\\"allow \\u03b12G8AV08\\u03b1 cronies embezzle hundreds millions dollars\\\" \\\"lend prestige \\u03b100aKSqg\\u03b1's authoritarian regime\\\".  \\u03b1UYyIKIo\\u03b1 support proposed Sochi Olympics boycottwriting \\\"unfairly punish athletes\\\"but called athletes \\\"transform \\u03b1s8HoYPw\\u03b1's self-congratulatory pet project spotlight exposes authoritarian rule\\\" world.  September, \\u03b1GatZknA\\u03b1 called politicians refuse attend games public pressure sponsors media, Coca-Cola, example, \\\"a rainbow flag Coca-Cola can\\\" NBC \\\"do interviews Russian gay activists Russian political activists\\\".  \\u03b1fs5cq8g\\u03b1 emphasised \\\"still Russian citizen\\\", \\\"good reason concerned ability leave Russia returned Moscow\\\". \\u03b1sKHIxbY\\u03b1 spoke 2014 Russian annexation Crimea stated control Crimea returned Ukraine overthrow \\u03b16BCnc34\\u03b1 additional conditions.  \\u03b16Jkc7NE\\u03b1's website blocked Russian government censorship agency, Roskomnadzor, behest public prosecutor, allegedly \\u03b16ftUuv4\\u03b1's opinions Crimean crisis.  \\u03b1HMSIGtk\\u03b1's block unison notable Russian sites accused inciting public outrage.  Reportedly, blocked sites received affidavit noting violations.  However, \\u03b1xLa97Tw\\u03b1 stated site received notice violations block.  2015, note \\u03b1hxRj8F4\\u03b1 removed Russian language encyclopaedia greatest Soviet players intervention \\\"senior leadership\\\". In October 2015, \\u03b1-3AG-2A\\u03b1 published book titled Winter Coming: Putin Enemies Free World Stopped\\nFrom the document with the title \\u03b1vgT7vco\\u03b1,  \\\"The judicial process democratic process Russia,\\\" wrote \\u03b1F-eUStc\\u03b1, \\\"are elaborate mockeries created distract citizenry home help Western leaders avoid confronting awkward fact Russia returned police state\\\".  Still, \\u03b13UHSz_k\\u03b1 felt caused Kirov prosecutor's about-face, \\\"my optimism tells positive sign.  13 years predictable repression \\u03b1g174wrs\\u03b1, different good. \\\"\\u03b1km6LZ2A\\u03b1 outspoken \\u03b1VvE_NRc\\u03b1's antigay laws, describing \\\"only recent encroachment freedom speech association Russia's citizens\\\", international community largely ignored.  Russia's hosting 2014 Winter Olympics, \\u03b1h2z7_SE\\u03b1 explained August 2013 opposed Russia's bid outset, \\\"allow \\u03b1oWCBK_4\\u03b1 cronies embezzle hundreds millions dollars\\\" \\\"lend prestige \\u03b1GY4QNBk\\u03b1's authoritarian regime\\\".  \\u03b1dsMf3lk\\u03b1 support proposed Sochi Olympics boycottwriting \\\"unfairly punish athletes\\\"but called athletes \\\"transform \\u03b1nisnj2Q\\u03b1's self-congratulatory pet project spotlight exposes authoritarian rule\\\" world.  September, \\u03b1J85fKlc\\u03b1 called politicians refuse attend games public pressure sponsors media, Coca-Cola, example, \\\"a rainbow flag Coca-Cola can\\\" NBC \\\"do interviews Russian gay activists Russian political activists\\\".  \\u03b1DL3mBD0\\u03b1 emphasised \\\"still Russian citizen\\\", \\\"good reason concerned ability leave Russia returned Moscow\\\". \\u03b1fEr02p4\\u03b1 spoke 2014 Russian annexation Crimea stated control Crimea returned Ukraine overthrow \\u03b17cwtPbA\\u03b1 additional conditions.  \\u03b1hxqw9VY\\u03b1's website blocked Russian government censorship agency, Roskomnadzor, behest public prosecutor, allegedly \\u03b1n6ooixo\\u03b1's opinions Crimean crisis.  \\u03b1E-qri3I\\u03b1's block unison notable Russian sites accused inciting public outrage.  Reportedly, blocked sites received affidavit noting violations.  However, \\u03b1dWf-jJg\\u03b1 stated site received notice violations block.  2015, note \\u03b1_Uofh_c\\u03b1 removed Russian language encyclopaedia greatest Soviet players intervention \\\"senior leadership\\\". In October 2015, \\u03b1F_1XrFw\\u03b1 published book titled Winter Coming: Putin Enemies Free World Stopped.  book, \\u03b1zHfA_k0\\u03b1 likens \\u03b1zL8pK3Y\\u03b1 explains need West oppose \\u03b1lGPDquc\\u03b1 sooner, appeasing postponing eventual confrontation\\nFrom the document with the title \\u03b1Y_lI3qI\\u03b1, \\\" Russians, lamented, continued \\\"slumber\\\" \\u03b12uFSp2A\\u03b1 \\\"taken flimsy mask democracy reveal would-be KGB dictator been\\\". \\u03b1q9DrCGQ\\u03b1 responded Twitter postings September 2013 New York Times op-ed \\u03b1G2asF6w\\u03b1.  \\\"I hope \\u03b13-pNv0c\\u03b1 taken adequate protections,\\\" tweeted.  \\\"Now Russian journalist life grave danger!\\\" Also: \\\"Now expect NY Times op-eds \\u03b1KgK_DTA\\u03b1 fair elections, \\u03b1VNd0ODY\\u03b1 free speech, & \\u03b1pt0bh-8\\u03b1 prison reform.  Axis Hypocrisy. \\\"\\u03b1P5_XLhY\\u03b1 wrote July 2013 trial Kirov fellow opposition leader \\u03b1YofzOnM\\u03b1, convicted \\\"on concocted embezzlement charges\\\", prosecutor, surprisingly, ask release day pending appeal.  \\\"The judicial process democratic process Russia,\\\" wrote \\u03b1eqix68U\\u03b1, \\\"are elaborate mockeries created distract citizenry home help Western leaders avoid confronting awkward fact Russia returned police state\\\".  Still, \\u03b1dHj8fe4\\u03b1 felt caused Kirov prosecutor's about-face, \\\"my optimism tells positive sign.  13 years predictable repression \\u03b1EpCad7s\\u03b1, different good. \\\"\\u03b1HYzeNEM\\u03b1 outspoken \\u03b1ce1KGFg\\u03b1's antigay laws, describing \\\"only recent encroachment freedom speech association Russia's citizens\\\", international community largely ignored.  Russia's hosting 2014 Winter Olympics, \\u03b1t6YV_L0\\u03b1 explained August 2013 opposed Russia's bid outset, \\\"allow \\u03b1hBwjyuw\\u03b1 cronies embezzle hundreds millions dollars\\\" \\\"lend prestige \\u03b1Y1eitvk\\u03b1's authoritarian regime\\\".  \\u03b1A3BtJlE\\u03b1 support proposed Sochi Olympics boycottwriting \\\"unfairly punish athletes\\\"but called athletes \\\"transform \\u03b1lw1W9Ns\\u03b1's self-congratulatory pet project spotlight exposes authoritarian rule\\\" world.  September, \\u03b1STIWOSY\\u03b1 called politicians refuse attend games public pressure sponsors media, Coca-Cola, example, \\\"a rainbow flag Coca-Cola can\\\" NBC \\\"do interviews Russian gay activists Russian political activists\\\".  \\u03b1BO75P4E\\u03b1 emphasised \\\"still Russian citizen\\\", \\\"good reason concerned ability leave Russia returned Moscow\\\". \\u03b1Bj1YJMA\\u03b1 spoke 2014 Russian annexation Crimea stated control Crimea returned Ukraine overthrow \\u03b1BbpiSzQ\\u03b1\",\n",
      "        \"name\": null,\n",
      "        \"function\": null\n",
      "    }\n",
      "]\n"
     ]
    }
   ],
   "source": [
    "print(json.dumps(response_with_rag[\"raw_request\"], indent=4))"
   ]
  },
  {
   "cell_type": "markdown",
   "metadata": {},
   "source": [
    "#### What User See"
   ]
  },
  {
   "cell_type": "code",
   "execution_count": 66,
   "metadata": {},
   "outputs": [
    {
     "name": "stdout",
     "output_type": "stream",
     "text": [
      "[\n",
      "    {\n",
      "        \"role\": \"assistant\",\n",
      "        \"content\": \"{\\n  \\\"Cards against Humanity\\\": [\\n    \\\"Bill\\\",\\n    \\\"Garry\\\",\\n    \\\"Marie\\\"\\n  ],\\n  \\\"Go\\\": [\\n    \\\"Bill\\\",\\n    \\\"Garry\\\",\\n    \\\"Marie\\\"\\n  ],\\n  \\\"Solitaire\\\": [\\n    \\\"Bill\\\",\\n    \\\"Garry\\\",\\n    \\\"Marie\",\n",
      "        \"name\": null,\n",
      "        \"function\": null\n",
      "    }\n",
      "]\n"
     ]
    }
   ],
   "source": [
    "print(json.dumps(response_with_rag[\"messages\"], indent=4))"
   ]
  }
 ],
 "metadata": {
  "kernelspec": {
   "display_name": ".venv",
   "language": "python",
   "name": "python3"
  },
  "language_info": {
   "codemirror_mode": {
    "name": "ipython",
    "version": 3
   },
   "file_extension": ".py",
   "mimetype": "text/x-python",
   "name": "python",
   "nbconvert_exporter": "python",
   "pygments_lexer": "ipython3",
   "version": "3.10.3"
  },
  "orig_nbformat": 4
 },
 "nbformat": 4,
 "nbformat_minor": 2
}
