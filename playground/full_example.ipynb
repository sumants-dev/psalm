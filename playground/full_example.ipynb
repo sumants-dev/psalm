{
 "cells": [
  {
   "cell_type": "markdown",
   "metadata": {},
   "source": [
    "# Examples"
   ]
  },
  {
   "cell_type": "markdown",
   "metadata": {},
   "source": [
    "## Private LLM calls with santized prompts"
   ]
  },
  {
   "cell_type": "code",
   "execution_count": 12,
   "metadata": {},
   "outputs": [],
   "source": [
    "import requests, json\n",
    "api_url = \"http://localhost:8000\"\n",
    "\n",
    "request = {\n",
    "    \"provider\": \"openai\",\n",
    "    \"model\": \"gpt-3.5-turbo\",\n",
    "    \"key_cache_prompt\": \"Rank the importance of these features of jobs for Rushabh and Jonah: 1. Compensation 2. Work Life Balance 3. Company Mission\",\n",
    "    \"messages\": [\n",
    "        {\n",
    "            \"role\": \"system\",\n",
    "            \"content\": \"Context: Rushabh is very passionate about technology and loves tinkering with new products. He enjoys spending quality time in nature in his free time. He's early in his career, so he's willing to forgo salary for career growth. Jonah is an entrepreneur at heart and believes that tech companies are the best suited for making lots of money. He's willing to work long hours, as long as he's working on a cause he believes in.\",\n",
    "            \"name\": \"context\"\n",
    "        },\n",
    "        {\n",
    "            \"role\": \"system\",\n",
    "            \"content\": \"Please provide a JSON response with the following format: {name: [ordered list of features]}\"\n",
    "        },\n",
    "        {\n",
    "            \"role\": \"user\",\n",
    "            \"content\": \"Rank the importance of these features of jobs for Rushabh and Jonah: 1. Compensation 2. Work Life Balance 3. Company Mission\",\n",
    "            \"name\": \"rankings\"\n",
    "        }\n",
    "    ]\n",
    "}\n",
    "\n",
    "res = requests.post(api_url + \"/llm/chat/completions?debug=true\", json=request)\n",
    "response = res.json()\n",
    "\n"
   ]
  },
  {
   "cell_type": "markdown",
   "metadata": {},
   "source": [
    "####  What AI Sees"
   ]
  },
  {
   "cell_type": "code",
   "execution_count": 13,
   "metadata": {},
   "outputs": [
    {
     "name": "stdout",
     "output_type": "stream",
     "text": [
      "{'messages': [{'role': 'assistant', 'content': '{\"Rushabh\": [\"Company Mission\", \"Work Life Balance\", \"Compensation\"], \"Jonah\": [\"Compensation\", \"Work Life Balance\", \"Company Mission\"]}', 'name': None, 'function': None}], 'provider_response': {'id': 'chatcmpl-81nanRFLeNmwMHLAbKakrf1PfbB8W', 'object': 'chat.completion', 'created': 1695439653, 'model': 'gpt-3.5-turbo-0613', 'choices': [{'index': 0, 'message': {'role': 'assistant', 'content': '{\"Rushabh\": [\"Company Mission\", \"Work Life Balance\", \"Compensation\"], \"Jonah\": [\"Compensation\", \"Work Life Balance\", \"Company Mission\"]}', 'name': None}, 'finish_reason': 'stop'}], 'usage': {'prompt_tokens': 350, 'completion_tokens': 95, 'total_tokens': 445}}, 'raw_provider_response': None, 'raw_request': None}\n"
     ]
    }
   ],
   "source": [
    "print(response)"
   ]
  },
  {
   "cell_type": "code",
   "execution_count": 10,
   "metadata": {},
   "outputs": [
    {
     "name": "stdout",
     "output_type": "stream",
     "text": [
      "null\n"
     ]
    }
   ],
   "source": [
    "print(json.dumps(response[\"raw_request\"], indent=4))"
   ]
  },
  {
   "cell_type": "markdown",
   "metadata": {},
   "source": [
    "####  What users see"
   ]
  },
  {
   "cell_type": "code",
   "execution_count": 11,
   "metadata": {},
   "outputs": [
    {
     "name": "stdout",
     "output_type": "stream",
     "text": [
      "[\n",
      "    {\n",
      "        \"role\": \"assistant\",\n",
      "        \"content\": \"{\\\"Rushabh\\\": [\\\"Company Mission\\\", \\\"Work Life Balance\\\", \\\"Compensation\\\"], \\\"Jonah\\\": [\\\"Compensation\\\", \\\"Work Life Balance\\\", \\\"Company Mission\\\"]}\",\n",
      "        \"name\": null,\n",
      "        \"function\": null\n",
      "    }\n",
      "]\n"
     ]
    }
   ],
   "source": [
    "print(json.dumps(response[\"messages\"], indent=4))"
   ]
  },
  {
   "cell_type": "markdown",
   "metadata": {},
   "source": [
    "## Secure RAG with Santized Documents and Prompts\n",
    "\n"
   ]
  },
  {
   "cell_type": "markdown",
   "metadata": {},
   "source": [
    "### Set Up Vector DB\n",
    "We assume you are using postgres with PGVector. Please email sumant@pontus.so for any support for other vector databases."
   ]
  },
  {
   "cell_type": "code",
   "execution_count": 110,
   "metadata": {},
   "outputs": [],
   "source": [
    "documents_from_wiki = [\"Bill Burr\", \"Marie Kondo\", \"Garry Kasparov\"]\n",
    "requests.post(api_url + \"/demo/load_wiki_pages\", json={\"page_names\": documents_from_wiki})"
   ]
  },
  {
   "cell_type": "markdown",
   "metadata": {},
   "source": [
    "### Call LLM\n",
    "To see what prompts are sent to OpenAI, please pass the query param debug as true (?debug=true) and to enable RAG (?rag=true)"
   ]
  },
  {
   "cell_type": "code",
   "execution_count": 111,
   "metadata": {},
   "outputs": [],
   "source": [
    "request = {\n",
    "\t\"provider\": \"openai\",\n",
    "\t\"model\": \"gpt-3.5-turbo\",\n",
    "\t\"messages\": [\n",
    "\n",
    "\t\t{\n",
    "\t\t\t\"role\": \"system\",\n",
    "\t\t\t\"content\": \"Please provide a JSON response with the following format: {'Cards against Humanity': [ordered list of Bill, Garry, or Marie], 'Go': [ordered list of Bill, Garry, or Marie], 'Solitare': [ordered list of Bill, Garry, or Marie]}\"\n",
    "\t\t},\n",
    "\t\t{\n",
    "\t\t\t\"role\": \"user\",\n",
    "\t\t\t\"content\": \"For each of the games 'Cards against Humanity', 'Go', and 'Solitaire', please order Marie Kondo, Garry Kasparov, and Bill Burr based on how much they would enjoy playing each game.\"\n",
    "\t\t}\n",
    "\t],\n",
    "\t\"titles\": [\"Bill Burr\", \"Marie Kondo\", \"Garry Kasparov\"]\n",
    "}\n",
    "\n",
    "\n",
    "res_with_rag = requests.post(api_url + \"/llm/chat/completions?debug=true&enable_rag=true\", json=request)\n",
    "response_with_rag = res_with_rag.json()\n"
   ]
  },
  {
   "cell_type": "markdown",
   "metadata": {},
   "source": [
    "#### What AI sees"
   ]
  },
  {
   "cell_type": "code",
   "execution_count": 112,
   "metadata": {},
   "outputs": [
    {
     "name": "stdout",
     "output_type": "stream",
     "text": [
      "[\n",
      "    {\n",
      "        \"role\": \"system\",\n",
      "        \"content\": \"Ensure that all placeholders, including those inside quotes, are enclosed bythe greek letter alpha (\\u03b1), exactly as I have done in this prompt. You MUST use the greek letter (\\u03b1) to indicate placeholders. Use the context below to help answer the question and follow the desired format accurately.\",\n",
      "        \"name\": null,\n",
      "        \"function\": null\n",
      "    },\n",
      "    {\n",
      "        \"role\": \"system\",\n",
      "        \"content\": \"Please provide a JSON response with the following format: {'Cards against Humanity': [ordered list of \\u03b1Zxe3Isuo5+b/KeCAf7e9V8R/cKyQtF/JBTaxnbfLo8E=\\u03b1, \\u03b1QXH3QWS3gZ6rk2EsubMlJaJ/Ktbz50Mr6XmfOn+O3yg=\\u03b1, or \\u03b1l32XxxE1aF6OefMnccK/k8IF4aqpXbBvEI/fNY4Unpo=\\u03b1], 'Go': [ordered list of \\u03b1Zxe3Isuo5+b/KeCAf7e9V8R/cKyQtF/JBTaxnbfLo8E=\\u03b1, \\u03b1QXH3QWS3gZ6rk2EsubMlJaJ/Ktbz50Mr6XmfOn+O3yg=\\u03b1, or \\u03b1l32XxxE1aF6OefMnccK/k8IF4aqpXbBvEI/fNY4Unpo=\\u03b1], 'Solitare': [ordered list of \\u03b1Zxe3Isuo5+b/KeCAf7e9V8R/cKyQtF/JBTaxnbfLo8E=\\u03b1, \\u03b1QXH3QWS3gZ6rk2EsubMlJaJ/Ktbz50Mr6XmfOn+O3yg=\\u03b1, or \\u03b1l32XxxE1aF6OefMnccK/k8IF4aqpXbBvEI/fNY4Unpo=\\u03b1]}\",\n",
      "        \"name\": null,\n",
      "        \"function\": null\n",
      "    },\n",
      "    {\n",
      "        \"role\": \"user\",\n",
      "        \"content\": \"For each of the games 'Cards against Humanity', 'Go', and 'Solitaire', please order \\u03b1N0uRQ+uNg3Nvy0FyCNo10wBi5zHbD+kllCEsI2x88eY=\\u03b1, \\u03b12OAlT3LoF1peQApqiWyzudcocfShP2VQnKqE7jbaNxY=\\u03b1, and \\u03b14U4PQUcso77rQlT9ktTv0mEHQgUXfnZtRbF28sdn7AA=\\u03b1 based on how much they would enjoy playing each game.\",\n",
      "        \"name\": null,\n",
      "        \"function\": null\n",
      "    },\n",
      "    {\n",
      "        \"role\": \"system\",\n",
      "        \"content\": \"Below is useful context. Do not answer the question yet.\\nFrom the document with the title \\u03b1MA6NsNRMhenN6GWoRQol/sypu3NRaLAVZqLuxHfKh1E=\\u03b1, 2014, network dozen members 50 podcasts\\nFrom the document with the title \\u03b1MA6NsNRMhenN6GWoRQol/sypu3NRaLAVZqLuxHfKh1E=\\u03b1, 2014, network dozen members 50 podcasts\\nFrom the document with the title \\u03b1MA6NsNRMhenN6GWoRQol/sypu3NRaLAVZqLuxHfKh1E=\\u03b1, \\u03b1nKpRmEmVvjeoQKqxQhMlEQADIHiDPFFhrbo+3mL/k9Q=\\u03b1 stand still, casually leaning arm mic stand, mischievous grin face, acting like loud guy bar\\nFrom the document with the title \\u03b1MA6NsNRMhenN6GWoRQol/sypu3NRaLAVZqLuxHfKh1E=\\u03b1, \\u03b1nDtJxZlp/8gyvAAmvBhzkYIufXrwwwEsju0HPJwJXgE=\\u03b1 stand still, casually leaning arm mic stand, mischievous grin face, acting like loud guy bar\\nFrom the document with the title \\u03b1MA6NsNRMhenN6GWoRQol/sypu3NRaLAVZqLuxHfKh1E=\\u03b1, Hill appears guest podcast\\nFrom the document with the title \\u03b17qyu3jnwBS6EWFNndEdqc8Qe6uruF1hYXVjJOrIqTTY=\\u03b1, time met, Kawahara working sales-support marketing corporation Osaka\\nFrom the document with the title \\u03b17qyu3jnwBS6EWFNndEdqc8Qe6uruF1hYXVjJOrIqTTY=\\u03b1, time met, Kawahara working sales-support marketing corporation Osaka\\nFrom the document with the title \\u03b17qyu3jnwBS6EWFNndEdqc8Qe6uruF1hYXVjJOrIqTTY=\\u03b1, Talks Google\\nFrom the document with the title \\u03b17qyu3jnwBS6EWFNndEdqc8Qe6uruF1hYXVjJOrIqTTY=\\u03b1, Talks Google\\nFrom the document with the title \\u03b17qyu3jnwBS6EWFNndEdqc8Qe6uruF1hYXVjJOrIqTTY=\\u03b1, clip saying \\\"I love mess\\\" included Time's list best memes 2019\\nFrom the document with the title \\u03b1URBLcgP9YTvfX8UxSSiMjleMdYcMKg22Qq+bsUmjmbg=\\u03b1, alliance U\\nFrom the document with the title \\u03b1URBLcgP9YTvfX8UxSSiMjleMdYcMKg22Qq+bsUmjmbg=\\u03b1, alliance U\\nFrom the document with the title \\u03b1URBLcgP9YTvfX8UxSSiMjleMdYcMKg22Qq+bsUmjmbg=\\u03b1, won games\\nFrom the document with the title \\u03b1URBLcgP9YTvfX8UxSSiMjleMdYcMKg22Qq+bsUmjmbg=\\u03b1, won games\\nFrom the document with the title \\u03b1URBLcgP9YTvfX8UxSSiMjleMdYcMKg22Qq+bsUmjmbg=\\u03b1, remove him\\n---\\n\",\n",
      "        \"name\": null,\n",
      "        \"function\": null\n",
      "    }\n",
      "]\n"
     ]
    }
   ],
   "source": [
    "print(json.dumps(response_with_rag[\"raw_request\"], indent=4))"
   ]
  },
  {
   "cell_type": "markdown",
   "metadata": {},
   "source": [
    "#### What User See"
   ]
  },
  {
   "cell_type": "code",
   "execution_count": 113,
   "metadata": {},
   "outputs": [
    {
     "name": "stdout",
     "output_type": "stream",
     "text": [
      "[\n",
      "    {\n",
      "        \"role\": \"assistant\",\n",
      "        \"content\": \"{'Cards against Humanity': [Bill Burr, Marie Kondo, Garry Kasparov], 'Go': [Marie Kondo, Garry Kasparov, Bill Burr], 'Solitaire': [Garry Kasparov, Marie Kondo, Bill Burr]}\",\n",
      "        \"name\": null,\n",
      "        \"function\": null\n",
      "    }\n",
      "]\n"
     ]
    }
   ],
   "source": [
    "print(json.dumps(response_with_rag[\"messages\"], indent=4))"
   ]
  }
 ],
 "metadata": {
  "kernelspec": {
   "display_name": ".venv",
   "language": "python",
   "name": "python3"
  },
  "language_info": {
   "codemirror_mode": {
    "name": "ipython",
    "version": 3
   },
   "file_extension": ".py",
   "mimetype": "text/x-python",
   "name": "python",
   "nbconvert_exporter": "python",
   "pygments_lexer": "ipython3",
   "version": "3.10.3"
  },
  "orig_nbformat": 4
 },
 "nbformat": 4,
 "nbformat_minor": 2
}
