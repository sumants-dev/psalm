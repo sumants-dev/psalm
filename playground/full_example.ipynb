{
 "cells": [
  {
   "cell_type": "markdown",
   "metadata": {},
   "source": [
    "# Examples"
   ]
  },
  {
   "cell_type": "markdown",
   "metadata": {},
   "source": [
    "## Private LLM calls with santized prompts"
   ]
  },
  {
   "cell_type": "code",
   "execution_count": 9,
   "metadata": {},
   "outputs": [],
   "source": [
    "import requests, json\n",
    "api_url = \"http://localhost:8000\"\n",
    "\n",
    "request = {\n",
    "    \"provider\": \"openai\",\n",
    "    \"model\": \"gpt-3.5-turbo\",\n",
    "    \"messages\": [\n",
    "        {\n",
    "            \"role\": \"system\",\n",
    "            \"content\": \"Context: Rushabh is very passionate about technology and loves tinkering with new products. He enjoys spending quality time in nature in his free time. He's early in his career, so he's willing to forgo salary for career growth. Jonah is an entrepreneur at heart and believes that tech companies are the best suited for making lots of money. He's willing to work long hours, as long as he's working on a cause he believes in.\",\n",
    "            \"name\": \"context\"\n",
    "        },\n",
    "        {\n",
    "            \"role\": \"system\",\n",
    "            \"content\": \"Please provide a JSON response with the following format: {name: [ordered list of features]}\"\n",
    "        },\n",
    "        {\n",
    "            \"role\": \"user\",\n",
    "            \"content\": \"Rank the importance of these features of jobs for Rushabh and Jonah: 1. Compensation 2. Work Life Balance 3. Company Mission\",\n",
    "            \"name\": \"rankings\"\n",
    "        }\n",
    "    ]\n",
    "}\n",
    "\n",
    "res = requests.post(api_url + \"/llm/chat/completions?debug=true\", json=request)\n",
    "response = res.json()\n",
    "\n"
   ]
  },
  {
   "cell_type": "markdown",
   "metadata": {},
   "source": [
    "####  What AI Sees"
   ]
  },
  {
   "cell_type": "code",
   "execution_count": 17,
   "metadata": {},
   "outputs": [
    {
     "name": "stdout",
     "output_type": "stream",
     "text": [
      "[\n",
      "    {\n",
      "        \"role\": \"system\",\n",
      "        \"content\": \"Ensure that all placeholders, including those inside quotes, are enclosed bythe greek letter alpha (\\u03b1), exactly as I have done in this prompt. You MUST use the greek letter (\\u03b1) to indicate placeholders. Use the context below to help answer the question and follow the desired format accurately.\",\n",
      "        \"name\": null,\n",
      "        \"function\": null\n",
      "    },\n",
      "    {\n",
      "        \"role\": \"system\",\n",
      "        \"content\": \"Context: \\u03b1gorTDAj2eaZrhlBPz9M+T+gx7PX6H5qaQUrj9zLg8Qs=\\u03b1 is very passionate about technology and loves tinkering with new products. He enjoys spending quality time in nature in his free time. He's early in his career, so he's willing to forgo salary for career growth. \\u03b1YndDRGCe9OlFNbSyeF2y8ubr2s02CVVe+ckL/dr6qb4=\\u03b1 is an entrepreneur at heart and believes that tech companies are the best suited for making lots of money. He's willing to work long hours, as long as he's working on a cause he believes in.\",\n",
      "        \"name\": \"context\",\n",
      "        \"function\": null\n",
      "    },\n",
      "    {\n",
      "        \"role\": \"system\",\n",
      "        \"content\": \"Please provide a JSON response with the following format: {name: [ordered list of features]}\",\n",
      "        \"name\": null,\n",
      "        \"function\": null\n",
      "    },\n",
      "    {\n",
      "        \"role\": \"user\",\n",
      "        \"content\": \"Rank the importance of these features of jobs for \\u03b1JPX/9UKSmbt1L6bJmc0GMfVApcZvKVPnE7BH6FmZV5k=\\u03b1 and \\u03b1WnvObW+WzbILGA363mQDhKZRoIaVLIJxU5CICpvVFYE=\\u03b1: 1. Compensation 2. Work Life Balance 3. Company Mission\",\n",
      "        \"name\": \"rankings\",\n",
      "        \"function\": null\n",
      "    }\n",
      "]\n"
     ]
    }
   ],
   "source": [
    "print(json.dumps(response[\"raw_request\"], indent=4))"
   ]
  },
  {
   "cell_type": "markdown",
   "metadata": {},
   "source": [
    "####  What users see"
   ]
  },
  {
   "cell_type": "code",
   "execution_count": 11,
   "metadata": {},
   "outputs": [
    {
     "name": "stdout",
     "output_type": "stream",
     "text": [
      "[\n",
      "    {\n",
      "        \"role\": \"assistant\",\n",
      "        \"content\": \"{\\\"Rushabh\\\": [\\\"Company Mission\\\", \\\"Work Life Balance\\\", \\\"Compensation\\\"],\\n \\\"Jonah\\\": [\\\"Compensation\\\", \\\"Company Mission\\\", \\\"Work Life Balance\\\"]}\",\n",
      "        \"name\": null,\n",
      "        \"function\": null\n",
      "    }\n",
      "]\n"
     ]
    }
   ],
   "source": [
    "print(json.dumps(response[\"messages\"], indent=4))"
   ]
  },
  {
   "cell_type": "markdown",
   "metadata": {},
   "source": [
    "## Secure RAG with Santized Documents and Prompts\n",
    "\n"
   ]
  },
  {
   "cell_type": "markdown",
   "metadata": {},
   "source": [
    "### Set Up Vector DB\n",
    "We assume you are using postgres with PGVector. Please email sumant@pontus.so for any support for other vector databases."
   ]
  },
  {
   "cell_type": "code",
   "execution_count": 12,
   "metadata": {},
   "outputs": [
    {
     "data": {
      "text/plain": [
       "<Response [200]>"
      ]
     },
     "execution_count": 12,
     "metadata": {},
     "output_type": "execute_result"
    }
   ],
   "source": [
    "documents_from_wiki = [\"Bill Burr\", \"Marie Kondo\", \"Garry Kasparov\"]\n",
    "requests.post(api_url + \"/demo/load_wiki_pages\", json={\"page_names\": documents_from_wiki})"
   ]
  },
  {
   "cell_type": "markdown",
   "metadata": {},
   "source": [
    "### Call LLM\n",
    "To see what prompts are sent to OpenAI, please pass the query param debug as true (?debug=true) and to enable RAG (?rag=true)"
   ]
  },
  {
   "cell_type": "code",
   "execution_count": 13,
   "metadata": {},
   "outputs": [],
   "source": [
    "request = {\n",
    "\t\"provider\": \"openai\",\n",
    "\t\"model\": \"gpt-3.5-turbo\",\n",
    "\t\"messages\": [\n",
    "\n",
    "\t\t{\n",
    "\t\t\t\"role\": \"system\",\n",
    "\t\t\t\"content\": \"Please provide a JSON response with the following format: {'Cards against Humanity': [ordered list of Bill, Garry, or Marie], 'Go': [ordered list of Bill, Garry, or Marie], 'Solitare': [ordered list of Bill, Garry, or Marie]}\"\n",
    "\t\t},\n",
    "\t\t{\n",
    "\t\t\t\"role\": \"user\",\n",
    "\t\t\t\"content\": \"For each of the games 'Cards against Humanity', 'Go', and 'Solitaire', please order Marie Kondo, Garry Kasparov, and Bill Burr based on how much they 'd enjoy playing each game.\"\n",
    "\t\t}\n",
    "\t],\n",
    "\t\"titles\": [\"Bill Burr\", \"Marie Kondo\", \"Garry Kasparov\"]\n",
    "}\n",
    "\n",
    "\n",
    "res_with_rag = requests.post(api_url + \"/llm/chat/completions?debug=true&enable_rag=true\", json=request)\n",
    "response_with_rag = res_with_rag.json()\n"
   ]
  },
  {
   "cell_type": "markdown",
   "metadata": {},
   "source": [
    "#### What AI sees"
   ]
  },
  {
   "cell_type": "code",
   "execution_count": 14,
   "metadata": {},
   "outputs": [
    {
     "name": "stdout",
     "output_type": "stream",
     "text": [
      "[\n",
      "    {\n",
      "        \"role\": \"system\",\n",
      "        \"content\": \"Ensure that all placeholders, including those inside quotes, are enclosed bythe greek letter alpha (\\u03b1), exactly as I have done in this prompt. You MUST use the greek letter (\\u03b1) to indicate placeholders. Use the context below to help answer the question and follow the desired format accurately.\",\n",
      "        \"name\": null,\n",
      "        \"function\": null\n",
      "    },\n",
      "    {\n",
      "        \"role\": \"system\",\n",
      "        \"content\": \"Please provide a JSON response with the following format: {'Cards against Humanity': [ordered list of \\u03b1UkJQP6YVre+/fqW34zH3YKz9f9/7T27TxSg24oaiGnE=\\u03b1, \\u03b1ETGAP3zkxJ77XXhB3PSc5E3CN9AS5w/YI2NWRhjq2BU=\\u03b1, or \\u03b11n98SNNSZRSqJV/PG8IX5Xzl+K5viEdL19DnVJWW8kQ=\\u03b1], 'Go': [ordered list of \\u03b1UkJQP6YVre+/fqW34zH3YKz9f9/7T27TxSg24oaiGnE=\\u03b1, \\u03b1ETGAP3zkxJ77XXhB3PSc5E3CN9AS5w/YI2NWRhjq2BU=\\u03b1, or \\u03b11n98SNNSZRSqJV/PG8IX5Xzl+K5viEdL19DnVJWW8kQ=\\u03b1], 'Solitare': [ordered list of \\u03b1UkJQP6YVre+/fqW34zH3YKz9f9/7T27TxSg24oaiGnE=\\u03b1, \\u03b1ETGAP3zkxJ77XXhB3PSc5E3CN9AS5w/YI2NWRhjq2BU=\\u03b1, or \\u03b11n98SNNSZRSqJV/PG8IX5Xzl+K5viEdL19DnVJWW8kQ=\\u03b1]}\",\n",
      "        \"name\": null,\n",
      "        \"function\": null\n",
      "    },\n",
      "    {\n",
      "        \"role\": \"user\",\n",
      "        \"content\": \"For each of the games 'Cards against Humanity', 'Go', and 'Solitaire', please order \\u03b1icy2lnQNYk5q9if+xwIOuQTbM0iw2WdsqxbN2N6efPA=\\u03b1, \\u03b1Fr/qeAUzop4tiQoV/dknaxwYq6MIYfvixGIgS3jmSWM=\\u03b1, and \\u03b1Y0SRGI+KtXfd7Y+r7c+iUr4zTh+jtcWYU35/1QL9jno=\\u03b1 based on how much they 'd enjoy playing each game.\",\n",
      "        \"name\": null,\n",
      "        \"function\": null\n",
      "    },\n",
      "    {\n",
      "        \"role\": \"system\",\n",
      "        \"content\": \"Below is useful context. Do not answer the question yet.\\nFrom the \\u03b1qKZPUI/NpT4v2nX7Jw1Hi6laDN/rtA3wYd1holyoQdY=\\u03b1 wiki page, 2014, network dozen members 50 podcasts\\nFrom the \\u03b1qKZPUI/NpT4v2nX7Jw1Hi6laDN/rtA3wYd1holyoQdY=\\u03b1 wiki page, 2014, network dozen members 50 podcasts\\nFrom the \\u03b1qKZPUI/NpT4v2nX7Jw1Hi6laDN/rtA3wYd1holyoQdY=\\u03b1 wiki page, 2014, network dozen members 50 podcasts\\nFrom the \\u03b1qKZPUI/NpT4v2nX7Jw1Hi6laDN/rtA3wYd1holyoQdY=\\u03b1 wiki page, \\u03b1qwAJMN1iMGfXt33BbILGgCvQEz6ZYOks1oYTlzQiq1M=\\u03b1 stand still, casually leaning arm mic stand, mischievous grin face, acting like loud guy bar\\nFrom the \\u03b1qKZPUI/NpT4v2nX7Jw1Hi6laDN/rtA3wYd1holyoQdY=\\u03b1 wiki page, \\u03b1oh5T34NxPLEbAG4PqbFcyJCkuljLGP9n2JkhqIdWZYs=\\u03b1 stand still, casually leaning arm mic stand, mischievous grin face, acting like loud guy bar\\nFrom the \\u03b1pFCsfNW7YOIV2OQXJNxrfe72vSCqhM7HWVxwsSPcuiE=\\u03b1 wiki page, time met, Kawahara working sales-support marketing corporation Osaka\\nFrom the \\u03b1pFCsfNW7YOIV2OQXJNxrfe72vSCqhM7HWVxwsSPcuiE=\\u03b1 wiki page, time met, Kawahara working sales-support marketing corporation Osaka\\nFrom the \\u03b1pFCsfNW7YOIV2OQXJNxrfe72vSCqhM7HWVxwsSPcuiE=\\u03b1 wiki page, time met, Kawahara working sales-support marketing corporation Osaka\\nFrom the \\u03b1pFCsfNW7YOIV2OQXJNxrfe72vSCqhM7HWVxwsSPcuiE=\\u03b1 wiki page, Talks Google\\nFrom the \\u03b1pFCsfNW7YOIV2OQXJNxrfe72vSCqhM7HWVxwsSPcuiE=\\u03b1 wiki page, Talks Google\\nFrom the \\u03b1KoLDAHgUFPx6MLtOO8+vGa/GTl1Rebz7IreO1M0tfZM=\\u03b1 wiki page, alliance U\\nFrom the \\u03b1KoLDAHgUFPx6MLtOO8+vGa/GTl1Rebz7IreO1M0tfZM=\\u03b1 wiki page, alliance U\\nFrom the \\u03b1KoLDAHgUFPx6MLtOO8+vGa/GTl1Rebz7IreO1M0tfZM=\\u03b1 wiki page, alliance U\\nFrom the \\u03b1KoLDAHgUFPx6MLtOO8+vGa/GTl1Rebz7IreO1M0tfZM=\\u03b1 wiki page, won games\\nFrom the \\u03b1KoLDAHgUFPx6MLtOO8+vGa/GTl1Rebz7IreO1M0tfZM=\\u03b1 wiki page, won games\\n---\\n\",\n",
      "        \"name\": null,\n",
      "        \"function\": null\n",
      "    }\n",
      "]\n"
     ]
    }
   ],
   "source": [
    "print(json.dumps(response_with_rag[\"raw_request\"], indent=4))"
   ]
  },
  {
   "cell_type": "markdown",
   "metadata": {},
   "source": [
    "#### What User See"
   ]
  },
  {
   "cell_type": "code",
   "execution_count": 15,
   "metadata": {},
   "outputs": [
    {
     "name": "stdout",
     "output_type": "stream",
     "text": [
      "[\n",
      "    {\n",
      "        \"role\": \"assistant\",\n",
      "        \"content\": \"{\\n  \\\"Cards against Humanity\\\": [\\n    \\\"Marie Kondo\\\",\\n    \\\"Garry Kasparov\\\",\\n    \\\"Bill Burr\\\"\\n  ],\\n  \\\"Go\\\": [\\n    \\\"Marie Kondo\\\",\\n    \\\"Garry Kasparov\\\",\\n    \\\"Bill Burr\\\"\\n  ],\\n  \\\"Solitaire\\\": [\\n    \\\"Marie Kondo\\\",\\n    \\\"Garry Kasparov\\\",\\n    \\\"Bill Burr\\\"\\n  ]\\n}\",\n",
      "        \"name\": null,\n",
      "        \"function\": null\n",
      "    }\n",
      "]\n"
     ]
    }
   ],
   "source": [
    "print(json.dumps(response_with_rag[\"messages\"], indent=4))"
   ]
  }
 ],
 "metadata": {
  "kernelspec": {
   "display_name": ".venv",
   "language": "python",
   "name": "python3"
  },
  "language_info": {
   "codemirror_mode": {
    "name": "ipython",
    "version": 3
   },
   "file_extension": ".py",
   "mimetype": "text/x-python",
   "name": "python",
   "nbconvert_exporter": "python",
   "pygments_lexer": "ipython3",
   "version": "3.10.3"
  },
  "orig_nbformat": 4
 },
 "nbformat": 4,
 "nbformat_minor": 2
}
