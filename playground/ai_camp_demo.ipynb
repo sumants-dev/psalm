{
 "cells": [
  {
   "cell_type": "markdown",
   "metadata": {},
   "source": [
    "# Demo with AI Camp"
   ]
  },
  {
   "cell_type": "code",
   "execution_count": 32,
   "metadata": {},
   "outputs": [],
   "source": [
    "import requests\n",
    "import json\n",
    "\n",
    "api_url = \"http://localhost:4200\""
   ]
  },
  {
   "cell_type": "markdown",
   "metadata": {},
   "source": [
    "## Example from requests"
   ]
  },
  {
   "cell_type": "code",
   "execution_count": 40,
   "metadata": {},
   "outputs": [],
   "source": [
    "request = {\n",
    "    \"provider\": \"openai\",\n",
    "    \"model\": \"gpt-3.5-turbo\",\n",
    "    \"messages\": [\n",
    "        {\n",
    "            \"role\": \"system\",\n",
    "            \"content\": \"Do not answer the question until the context below is used.\\n Here is the context: Rushabh. Rushabh is very passionate about technology and loves tinkering with new products. He enjoys spending quality time in nature in his free time. He's early in his career, so he's willing to forgo salary for career growth. \",\n",
    "            \"name\": \"context\"\n",
    "        },\n",
    "        {\n",
    "            \"role\": \"user\",\n",
    "            \"content\": \"Please explain the importance of the following factor Compensation, Work Life Balance, Company mission when Rushabh is looking for jobs.\",\n",
    "            \"name\": \"rankings\"\n",
    "        }\n",
    "    ]\n",
    "}\n",
    "\n",
    "res = requests.post(api_url + \"/llm/chat/completions?debug=true\", json=request)\n",
    "response = res.json()\n",
    "\n"
   ]
  },
  {
   "cell_type": "markdown",
   "metadata": {},
   "source": [
    "## Request to LLM Provider"
   ]
  },
  {
   "cell_type": "code",
   "execution_count": 41,
   "metadata": {},
   "outputs": [
    {
     "name": "stdout",
     "output_type": "stream",
     "text": [
      "[\n",
      "    {\n",
      "        \"role\": \"system\",\n",
      "        \"content\": \"Ensure that all placeholders, including those inside quotes, are enclosed by the greek letter alpha (\\u03b1), exactly as I have done in this prompt. You MUST use the greek letter (\\u03b1) to indicate placeholders. Use the context below to help answer the question and follow the desired format accurately.\",\n",
      "        \"name\": null,\n",
      "        \"function\": null\n",
      "    },\n",
      "    {\n",
      "        \"role\": \"system\",\n",
      "        \"content\": \"Do not answer the question until the context below is used.\\n Here is the context: \\u03b1/ywZ3N4SEgXxn2BzFkAGnFq+alvzIEwd/cnl9KB70z0=\\u03b1. \\u03b1/ywZ3N4SEgXxn2BzFkAGnFq+alvzIEwd/cnl9KB70z0=\\u03b1 is very passionate about technology and loves tinkering with new products. He enjoys spending quality time in nature in his free time. He's early in his career, so he's willing to forgo salary for career growth. \",\n",
      "        \"name\": \"context\",\n",
      "        \"function\": null\n",
      "    },\n",
      "    {\n",
      "        \"role\": \"user\",\n",
      "        \"content\": \"Please explain the importance of the following factor Compensation, Work Life Balance, Company mission when \\u03b1BplOPT4Z1j1nAd5inHpEDYi6razPT+RpuFgw2vNQvV0=\\u03b1 is looking for jobs.\",\n",
      "        \"name\": \"rankings\",\n",
      "        \"function\": null\n",
      "    }\n",
      "]\n"
     ]
    }
   ],
   "source": [
    "print(json.dumps(response[\"raw_request\"], indent=4))"
   ]
  },
  {
   "cell_type": "markdown",
   "metadata": {},
   "source": [
    "## Raw Response by LLM Provider"
   ]
  },
  {
   "cell_type": "code",
   "execution_count": 42,
   "metadata": {},
   "outputs": [
    {
     "name": "stdout",
     "output_type": "stream",
     "text": [
      "{\n",
      "    \"id\": \"chatcmpl-83qdTIwzL03YSMCKr2AawbhMPZFJd\",\n",
      "    \"object\": \"chat.completion\",\n",
      "    \"created\": 1695928007,\n",
      "    \"model\": \"gpt-3.5-turbo-0613\",\n",
      "    \"choices\": [\n",
      "        {\n",
      "            \"index\": 0,\n",
      "            \"message\": {\n",
      "                \"role\": \"assistant\",\n",
      "                \"content\": \"When \\u03b1BplOPT4Z1j1nAd5inHpEDYi6razPT+RpuFgw2vNQvV0=\\u03b1 is looking for jobs, the factors of Compensation, Work Life Balance, and Company mission play important roles in their decision-making process.\\n\\n1. Compensation: Compensation refers to the salary and benefits package offered by a company. For \\u03b1BplOPT4Z1j1nAd5inHpEDYi6razPT+RpuFgw2vNQvV0=\\u03b1, who is early in their career, compensation might not be the top priority. However, it is still an essential factor to consider as it can reflect the value the company places on its employees. A competitive compensation package can also provide financial stability and support career growth.\\n\\n2. Work Life Balance: Work life balance refers to the equilibrium between work responsibilities and personal life. \\u03b1BplOPT4Z1j1nAd5inHpEDYi6razPT+RpuFgw2vNQvV0=\\u03b1, who enjoys spending time in nature, would likely appreciate a job that allows flexibility and time off to pursue their personal interests. A good work life balance can contribute to overall well-being, job satisfaction, and reduced stress levels.\\n\\n3. Company Mission: The company mission or purpose encompasses the organization's values, goals, and overall objectives. \\u03b1BplOPT4Z1j1nAd5inHpEDYi6razPT+RpuFgw2vNQvV0=\\u03b1, who is passionate about technology, would benefit from being part of a company whose mission aligns with their interests and values. Working for a company with a compelling mission can provide a sense of purpose, motivation, and job satisfaction.\\n\\nWhile the importance of these factors may vary for each individual, considering Compensation, Work Life Balance, and Company mission can help \\u03b1BplOPT4Z1j1nAd5inHpEDYi6razPT+RpuFgw2vNQvV0=\\u03b1 make a more informed decision when searching for jobs.\",\n",
      "                \"name\": null\n",
      "            },\n",
      "            \"finish_reason\": \"stop\"\n",
      "        }\n",
      "    ],\n",
      "    \"usage\": {\n",
      "        \"prompt_tokens\": 269,\n",
      "        \"completion_tokens\": 435,\n",
      "        \"total_tokens\": 704\n",
      "    }\n",
      "}\n"
     ]
    }
   ],
   "source": [
    "print(json.dumps(response[\"provider_response\"], indent=4))"
   ]
  },
  {
   "cell_type": "markdown",
   "metadata": {},
   "source": [
    "## Messages after Pontus Processing"
   ]
  },
  {
   "cell_type": "code",
   "execution_count": 43,
   "metadata": {},
   "outputs": [
    {
     "name": "stdout",
     "output_type": "stream",
     "text": [
      "[\n",
      "    {\n",
      "        \"role\": \"assistant\",\n",
      "        \"content\": \"When Rushabh is looking for jobs, the factors of Compensation, Work Life Balance, and Company mission play important roles in their decision-making process.\\n\\n1. Compensation: Compensation refers to the salary and benefits package offered by a company. For Rushabh, who is early in their career, compensation might not be the top priority. However, it is still an essential factor to consider as it can reflect the value the company places on its employees. A competitive compensation package can also provide financial stability and support career growth.\\n\\n2. Work Life Balance: Work life balance refers to the equilibrium between work responsibilities and personal life. Rushabh, who enjoys spending time in nature, would likely appreciate a job that allows flexibility and time off to pursue their personal interests. A good work life balance can contribute to overall well-being, job satisfaction, and reduced stress levels.\\n\\n3. Company Mission: The company mission or purpose encompasses the organization's values, goals, and overall objectives. Rushabh, who is passionate about technology, would benefit from being part of a company whose mission aligns with their interests and values. Working for a company with a compelling mission can provide a sense of purpose, motivation, and job satisfaction.\\n\\nWhile the importance of these factors may vary for each individual, considering Compensation, Work Life Balance, and Company mission can help Rushabh make a more informed decision when searching for jobs.\",\n",
      "        \"name\": null,\n",
      "        \"function\": null\n",
      "    }\n",
      "]\n"
     ]
    }
   ],
   "source": [
    "print(json.dumps(response[\"messages\"], indent=4))"
   ]
  }
 ],
 "metadata": {
  "kernelspec": {
   "display_name": ".venv",
   "language": "python",
   "name": "python3"
  },
  "language_info": {
   "codemirror_mode": {
    "name": "ipython",
    "version": 3
   },
   "file_extension": ".py",
   "mimetype": "text/x-python",
   "name": "python",
   "nbconvert_exporter": "python",
   "pygments_lexer": "ipython3",
   "version": "3.10.3"
  },
  "orig_nbformat": 4
 },
 "nbformat": 4,
 "nbformat_minor": 2
}
