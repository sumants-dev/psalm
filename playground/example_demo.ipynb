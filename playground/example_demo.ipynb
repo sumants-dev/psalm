{
 "cells": [
  {
   "cell_type": "markdown",
   "metadata": {},
   "source": [
    "# Demo of RAG using Guidance"
   ]
  },
  {
   "cell_type": "code",
   "execution_count": 1,
   "metadata": {},
   "outputs": [
    {
     "data": {
      "text/plain": [
       "<Response [404]>"
      ]
     },
     "execution_count": 1,
     "metadata": {},
     "output_type": "execute_result"
    }
   ],
   "source": [
    "import requests\n",
    "api_url = \"http://localhost:8000\"\n",
    "\n",
    "celebrities = [\"Bill Burr\", \"Marie Kondo\", \"Garry Kasparov\"]\n",
    "\n",
    "requests.post(api_url + \"/demo/load_wiki_pages\", json={\"page_names\": celebrities})"
   ]
  },
  {
   "cell_type": "code",
   "execution_count": 17,
   "metadata": {},
   "outputs": [
    {
     "name": "stdout",
     "output_type": "stream",
     "text": [
      "{\n",
      "    \"id\": \"chatcmpl-7wuiBVWR8BBIzZjRdJcmOFd1TtbIg\",\n",
      "    \"object\": \"chat.completion\",\n",
      "    \"created\": 1694275379,\n",
      "    \"model\": \"gpt-3.5-turbo-0613\",\n",
      "    \"choices\": [\n",
      "        {\n",
      "            \"index\": 0,\n",
      "            \"message\": {\n",
      "                \"role\": \"assistant\",\n",
      "                \"content\": \"{\\\"Rushabh\\\": [\\\"Work Life Balance\\\", \\\"Company Mission\\\", \\\"Compensation\\\"],\\n\\\"Jonah\\\": [\\\"Company Mission\\\", \\\"Compensation\\\", \\\"Work Life Balance\\\"]}\",\n",
      "                \"name\": null,\n",
      "                \"metadata\": {\n",
      "                    \"is_toxic\": false\n",
      "                }\n",
      "            },\n",
      "            \"finish_reason\": \"stop\"\n",
      "        }\n",
      "    ],\n",
      "    \"usage\": {\n",
      "        \"prompt_tokens\": 350,\n",
      "        \"completion_tokens\": 98,\n",
      "        \"total_tokens\": 448\n",
      "    },\n",
      "    \"anoymized_queries\": [\n",
      "        {\n",
      "            \"role\": \"system\",\n",
      "            \"content\": \"Ensure that all placeholders, including those inside quotes, are enclosed by the greek letter alpha (\\u03b1), exactly as I have done in this prompt. You MUST use the greek letter (\\u03b1) to indicate placeholders.Do not include any additional text or explanations. Simply follow this format accurately.\",\n",
      "            \"name\": null\n",
      "        },\n",
      "        {\n",
      "            \"role\": \"system\",\n",
      "            \"content\": \"Context: \\u03b1UEnKDgtnjsR5XoVQtdc6blIBJh5+hBSdfv1LJ0xdfRI=\\u03b1 is very passionate about technology and loves tinkering with new products. He enjoys spending quality time in nature in his free time. He's early in his career, so he's willing to forgo salary for career growth. \\u03b1uWZmLpJtyQ1qahBCTsNQanXbOX1OBbKBtn58rpz9xzY=\\u03b1 is an entrepreneur at heart and believes that tech companies are the best suited for making lots of money. He's willing to work long hours, as long as he's working on a cause he believes in.\",\n",
      "            \"name\": \"context\"\n",
      "        },\n",
      "        {\n",
      "            \"role\": \"system\",\n",
      "            \"content\": \"Please provide a JSON response with the following format: {name: [ordered list of features]}\",\n",
      "            \"name\": null\n",
      "        },\n",
      "        {\n",
      "            \"role\": \"user\",\n",
      "            \"content\": \"Rank the importance of these features of jobs for \\u03b11x0LFMo1BmXpjdJ1dsED1DOFTIOkhzfnqGD7Qzwi1uc=\\u03b1 and \\u03b1gNySiOfaEo6IgS+53d4vgYPLiobVPzgd0ZYE5pP2JEA=\\u03b1: 1. Compensation 2. Work Life Balance 3. Company Mission\",\n",
      "            \"name\": \"rankings\"\n",
      "        }\n",
      "    ]\n",
      "}\n"
     ]
    }
   ],
   "source": [
    "import json\n",
    "\n",
    "user_prompt = \"\"\"\n",
    "For each of the games 'Cards against Humanity', 'Go', and 'Solitaire', please order Marie Kondo,\n",
    "Garry Kasparov, and Bill Burr based on how much they'd enjoy playing each game.\n",
    "\"\"\"\n",
    "\n",
    "response_spec = \"\"\"\n",
    "{\n",
    "    \"Cards against Humanity\": [{{#select}} Bill {{or}} Garry {{or}} Marie {{/select}}, {{#select}} Bill {{or}} Garry {{or}} Marie {{/select}}, {{#select}} Bill {{or}} Garry {{or}} Marie {{/select}}],\n",
    "    \"Go\": [{{#select}} Bill {{or}} Garry {{or}} Marie {{/select}}, {{#select}} Bill {{or}} Garry {{or}} Marie {{/select}}, {{#select}} Bill {{or}} Garry {{or}} Marie {{/select}}],\n",
    "    \"Solitaire\": [{{#select}} Bill {{or}} Garry {{or}} Marie {{/select}}, {{#select}} Bill {{or}} Garry {{or}} Marie {{/select}}, {{#select}} Bill {{or}} Garry {{or}} Marie {{/select}}]\n",
    "}\n",
    "\"\"\"\n",
    "\n",
    "request = {\n",
    "    \"user_prompt\": user_prompt,\n",
    "    \"context_titles\": celebrities,\n",
    "    \"response_spec\": response_spec\n",
    "}\n",
    "\n",
    "res = requests.post(api_url + \"/demo/rag\", json=request)\n",
    "\n",
    "response = res.json()\n",
    "\n",
    "print(response[\"prompt\"])\n",
    "print(\"-----------\")\n",
    "print(json.dumps(json.loads(response[\"llm_response\"]), indent = 4))\n",
    "print(json.dumps(json.loads(response[\"pontus_response\"]), indent = 4))\n"
   ]
  },
  {
   "cell_type": "code",
   "execution_count": null,
   "metadata": {},
   "outputs": [],
   "source": []
  }
 ],
 "metadata": {
  "kernelspec": {
   "display_name": ".venv",
   "language": "python",
   "name": "python3"
  },
  "language_info": {
   "codemirror_mode": {
    "name": "ipython",
    "version": 3
   },
   "file_extension": ".py",
   "mimetype": "text/x-python",
   "name": "python",
   "nbconvert_exporter": "python",
   "pygments_lexer": "ipython3",
   "version": "3.11.5"
  },
  "orig_nbformat": 4
 },
 "nbformat": 4,
 "nbformat_minor": 2
}
