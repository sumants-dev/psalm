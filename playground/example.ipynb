{
 "cells": [
  {
   "cell_type": "markdown",
   "metadata": {},
   "source": [
    "# Basic Example-- Interacting With PSALM"
   ]
  },
  {
   "cell_type": "code",
   "execution_count": 1,
   "metadata": {},
   "outputs": [],
   "source": [
    "api_url = \"http://localhost:8000\"\n",
    "\n",
    "request = {\n",
    "    \"provider\": \"openai\",\n",
    "    \"model\": \"gpt-3.5-turbo\",\n",
    "    \"messages\": [\n",
    "        {\n",
    "            \"role\": \"system\",\n",
    "            \"content\": \"Context: Rushabh is very passionate about technology and loves tinkering with new products. He enjoys spending quality time in nature in his free time. He's early in his career, so he's willing to forgo salary for career growth. Jonah is an entrepreneur at heart and believes that tech companies are the best suited for making lots of money. He's willing to work long hours, as long as he's working on a cause he believes in.\",\n",
    "            \"name\": \"context\"\n",
    "        },\n",
    "        {\n",
    "            \"role\": \"system\",\n",
    "            \"content\": \"Please provide a JSON response with the following format: {name: [ordered list of features]}\"\n",
    "        },\n",
    "        {\n",
    "            \"role\": \"user\",\n",
    "            \"content\": \"Rank the importance of these features of jobs for Rushabh and Jonah: 1. Compensation 2. Work Life Balance 3. Company Mission\",\n",
    "            \"name\": \"rankings\"\n",
    "        }\n",
    "    ]\n",
    "}"
   ]
  },
  {
   "cell_type": "code",
   "execution_count": 5,
   "metadata": {},
   "outputs": [
    {
     "name": "stdout",
     "output_type": "stream",
     "text": [
      "{\n",
      "    \"id\": \"chatcmpl-7vwA9n54AYLwv8NlDBfFWx3KkSQX5\",\n",
      "    \"object\": \"chat.completion\",\n",
      "    \"created\": 1694042629,\n",
      "    \"model\": \"gpt-3.5-turbo-0613\",\n",
      "    \"choices\": [\n",
      "        {\n",
      "            \"index\": 0,\n",
      "            \"message\": {\n",
      "                \"role\": \"assistant\",\n",
      "                \"content\": \"{\\\"name\\\": [\\\"1. Compensation\\\", \\\"2. Work Life Balance\\\", \\\"3. Company Mission\\\"]}\",\n",
      "                \"name\": null\n",
      "            },\n",
      "            \"finish_reason\": \"stop\"\n",
      "        }\n",
      "    ],\n",
      "    \"usage\": {\n",
      "        \"prompt_tokens\": 347,\n",
      "        \"completion_tokens\": 21,\n",
      "        \"total_tokens\": 368\n",
      "    },\n",
      "    \"anoymized_queries\": [\n",
      "        {\n",
      "            \"role\": \"system\",\n",
      "            \"content\": \"Ensure that all placeholders, including those inside quotes, are enclosed by the greek letter alpha (\\u03b1), exactly as I have done in this prompt. You MUST use the greek lette (\\u03b1) to indicate placeholders.Do not include any additional text or explanations. Simply follow this format accurately.\",\n",
      "            \"name\": null\n",
      "        },\n",
      "        {\n",
      "            \"role\": \"system\",\n",
      "            \"content\": \"Context: \\u03b1DB8hqgJ9J+mgqCTE76s5WcdIaNjQsxn6Z0Z5QyTgFmk=\\u03b1 is very passionate about technology and loves tinkering with new products. He enjoys spending quality time in nature in his free time. He's early in his career, so he's willing to forgo salary for career growth. \\u03b1lsZGG/elKutw179vL5DAwExdqwWJMaF4UD4/jCuplso=\\u03b1 is an entrepreneur at heart and believes that tech companies are the best suited for making lots of money. He's willing to work long hours, as long as he's working on a cause he believes in.\",\n",
      "            \"name\": \"context\"\n",
      "        },\n",
      "        {\n",
      "            \"role\": \"system\",\n",
      "            \"content\": \"Please provide a JSON response with the following format: {name: [ordered list of features]}\",\n",
      "            \"name\": null\n",
      "        },\n",
      "        {\n",
      "            \"role\": \"user\",\n",
      "            \"content\": \"Rank the importance of these features of jobs for \\u03b1/+2qBstI4ZFdr1nfQzA2LOSdvQUEfpttu1pEUfkLZ1k=\\u03b1 and \\u03b1wOKC6BgMtdsAYCSxFAge8mSFhohDJuC4K3RGzVnYcgc=\\u03b1: 1. Compensation 2. Work Life Balance 3. Company Mission\",\n",
      "            \"name\": \"rankings\"\n",
      "        }\n",
      "    ]\n",
      "}\n"
     ]
    }
   ],
   "source": [
    "import requests, json\n",
    "\n",
    "res = requests.post(api_url + \"/llm/chat/completions?full_response=true\", json=request)\n",
    "\n",
    "\n",
    "print(json.dumps(res.json(), indent=4))\n",
    "\n",
    "\n",
    "response = res.json()\n"
   ]
  }
 ],
 "metadata": {
  "kernelspec": {
   "display_name": ".venv",
   "language": "python",
   "name": "python3"
  },
  "language_info": {
   "codemirror_mode": {
    "name": "ipython",
    "version": 3
   },
   "file_extension": ".py",
   "mimetype": "text/x-python",
   "name": "python",
   "nbconvert_exporter": "python",
   "pygments_lexer": "ipython3",
   "version": "3.10.3"
  },
  "orig_nbformat": 4
 },
 "nbformat": 4,
 "nbformat_minor": 2
}
